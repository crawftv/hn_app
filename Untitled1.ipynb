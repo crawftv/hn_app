{
 "cells": [
  {
   "cell_type": "code",
   "execution_count": 1,
   "metadata": {},
   "outputs": [],
   "source": [
    "import requests\n",
    "import pandas as pd\n",
    "import numpy as np\n",
    "import sqlalchemy\n",
    "from decouple import config \n",
    "import psycopg2\n",
    "\n",
    "\n",
    "def hn_scrape(i):\n",
    "    r = requests.get('https://hacker-news.firebaseio.com/v0/item/'+str(i)+'.json').json()\n",
    "    try:\n",
    "        if ('deleted' in r.keys()):\n",
    "            pass\n",
    "        else:\n",
    "            if r[\"type\"] == 'comment':\n",
    "                t = (r[\"by\"],r[\"id\"],r[\"text\"],r[\"time\"])\n",
    "                comments_list.append(t)\n",
    "    except:\n",
    "        pass\n",
    "\n",
    "def sentiment(text):\n",
    "    payload = {'text':text}\n",
    "    try:\n",
    "        return requests.get('https://crawftv-nlp-api.herokuapp.com/sentiment',params=payload).json()[\"compound\"]\n",
    "    except:\n",
    "        pass\n",
    "    "
   ]
  },
  {
   "cell_type": "code",
   "execution_count": 7,
   "metadata": {},
   "outputs": [
    {
     "data": {
      "text/plain": [
       "206814"
      ]
     },
     "execution_count": 7,
     "metadata": {},
     "output_type": "execute_result"
    }
   ],
   "source": [
    "host = config('DATABASE_URL')\n",
    "db = sqlalchemy.create_engine(host)\n",
    "\n",
    "conn = db.connect()\n",
    "curs = conn.connection.cursor()\n",
    "maxitem = requests.get(\"https://hacker-news.firebaseio.com/v0/maxitem.json?print=pretty\").json()\n",
    "curs.execute(\" SELECT Max(id) FROM comments\")\n",
    "table_max = curs.fetchall()\n",
    "table_max = table_max[0][0]\n",
    "maxitem-table_max"
   ]
  },
  {
   "cell_type": "code",
   "execution_count": 8,
   "metadata": {},
   "outputs": [],
   "source": [
    "comments_list = []\n",
    "for i in range(table_max,table_max+50000):\n",
    "    hn_scrape(i)\n",
    "comments= pd.DataFrame(columns = [\"by\", \"id\",\"text\",\"time\"], data=comments_list)\n",
    "comments[\"text\"] = comments[\"text\"].str.replace(\"&quot;\",\"\")\n",
    "comments[\"text\"] = comments[\"text\"].str.replace(\"&#x27;\",\"'\")\n",
    "comments[\"text\"] = comments[\"text\"].str.replace(\"&gt; \",\" \")\n",
    "comments[\"text\"] = comments[\"text\"].str.replace(\"<p>\",\" \")\n",
    "comments[\"text\"] = comments[\"text\"].str.replace(\"<a>\",\" \")\n",
    "comments[\"text\"] = comments[\"text\"].str.replace(\"</a>\",\" \")\n",
    "comments[\"text\"] = comments[\"text\"].str.replace(\"<i>\",\" \")\n",
    "comments[\"text\"] = comments[\"text\"].str.replace(\"</i>\",\" \")\n",
    "comments[\"text\"] = comments[\"text\"].str.replace(\"&#x2F;\",'')\n",
    "comments[\"text\"] = comments[\"text\"].str.replace(\"https:\",' ')\n",
    "comments[\"text\"] = comments[\"text\"].str.replace(\"\\\\n\",' ')\n",
    "comments[\"sentiment\"] = comments[\"text\"].apply(sentiment)\n",
    "comments = comments.dropna()\n",
    "comments.to_sql(name=\"comments\",con=db, if_exists=\"append\",chunksize=500)"
   ]
  },
  {
   "cell_type": "code",
   "execution_count": null,
   "metadata": {},
   "outputs": [],
   "source": []
  }
 ],
 "metadata": {
  "kernelspec": {
   "display_name": "Python 3",
   "language": "python",
   "name": "python3"
  },
  "language_info": {
   "codemirror_mode": {
    "name": "ipython",
    "version": 3
   },
   "file_extension": ".py",
   "mimetype": "text/x-python",
   "name": "python",
   "nbconvert_exporter": "python",
   "pygments_lexer": "ipython3",
   "version": "3.7.3"
  }
 },
 "nbformat": 4,
 "nbformat_minor": 2
}
