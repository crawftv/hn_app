{
 "cells": [
  {
   "cell_type": "code",
   "execution_count": 1,
   "metadata": {},
   "outputs": [],
   "source": [
    "from prefect import task\n",
    "import requests\n",
    "import pandas as pd\n",
    "import numpy as np\n",
    "import sqlalchemy\n",
    "from decouple import config \n",
    "import psycopg2\n",
    "from datetime import datetime"
   ]
  },
  {
   "cell_type": "code",
   "execution_count": 2,
   "metadata": {},
   "outputs": [],
   "source": [
    "host = config('AWS_DATABASE_URL')\n",
    "db = sqlalchemy.create_engine(host)\n",
    "conn = db.connect()\n",
    "curs = conn.connection.cursor()"
   ]
  },
  {
   "cell_type": "code",
   "execution_count": null,
   "metadata": {},
   "outputs": [],
   "source": [
    "conn = db.connect()\n",
    "curs = conn.connection.cursor()\n",
    "curs.execute(\"\"\" \n",
    "            CREATE TABLE \"comments\"(\n",
    "            by VARCHAR,\n",
    "            id INT,\n",
    "            text TEXT,\n",
    "            time TIMESTAMP,\n",
    "            sentiment FLOAT\n",
    "            )\n",
    "            \"\"\")\n",
    "conn.close()\n",
    "curs.close()"
   ]
  },
  {
   "cell_type": "code",
   "execution_count": 3,
   "metadata": {},
   "outputs": [
    {
     "ename": "DuplicateTable",
     "evalue": "relation \"comments\" already exists\n",
     "output_type": "error",
     "traceback": [
      "\u001b[0;31m---------------------------------------------------------------------------\u001b[0m",
      "\u001b[0;31mDuplicateTable\u001b[0m                            Traceback (most recent call last)",
      "\u001b[0;32m<ipython-input-3-5f0314524aa4>\u001b[0m in \u001b[0;36m<module>\u001b[0;34m\u001b[0m\n\u001b[1;32m      9\u001b[0m             \u001b[0msentiment\u001b[0m \u001b[0mFLOAT\u001b[0m\u001b[0;34m\u001b[0m\u001b[0;34m\u001b[0m\u001b[0m\n\u001b[1;32m     10\u001b[0m             )\n\u001b[0;32m---> 11\u001b[0;31m             \"\"\")\n\u001b[0m\u001b[1;32m     12\u001b[0m \u001b[0mconn\u001b[0m\u001b[0;34m.\u001b[0m\u001b[0mclose\u001b[0m\u001b[0;34m(\u001b[0m\u001b[0;34m)\u001b[0m\u001b[0;34m\u001b[0m\u001b[0;34m\u001b[0m\u001b[0m\n\u001b[1;32m     13\u001b[0m \u001b[0mcurs\u001b[0m\u001b[0;34m.\u001b[0m\u001b[0mclose\u001b[0m\u001b[0;34m(\u001b[0m\u001b[0;34m)\u001b[0m\u001b[0;34m\u001b[0m\u001b[0;34m\u001b[0m\u001b[0m\n",
      "\u001b[0;31mDuplicateTable\u001b[0m: relation \"comments\" already exists\n"
     ]
    }
   ],
   "source": [
    "conn = db.connect()\n",
    "curs = conn.connection.cursor()\n",
    "curs.execute(\"\"\" \n",
    "            CREATE TABLE \"comments\"(\n",
    "            by VARCHAR,\n",
    "            id INT,\n",
    "            text TEXT,\n",
    "            time TIMESTAMP,\n",
    "            sentiment FLOAT\n",
    "            )\n",
    "            \"\"\")\n",
    "conn.close()\n",
    "curs.close()"
   ]
  },
  {
   "cell_type": "code",
   "execution_count": 7,
   "metadata": {},
   "outputs": [],
   "source": [
    "def hn_scrape(i,comments_list):\n",
    "    r = requests.get('https://hacker-news.firebaseio.com/v0/item/'+str(i)+'.json').json()\n",
    "    try:\n",
    "        if ('deleted' in r.keys()):\n",
    "            pass\n",
    "        else:\n",
    "            if r[\"type\"] == 'comment':\n",
    "                t = (r[\"by\"],r[\"id\"],r[\"text\"],r[\"time\"])\n",
    "                comments_list.append(t)\n",
    "    except:\n",
    "        pass\n",
    "\n",
    "def sentiment(text):\n",
    "    payload = {'text':text}\n",
    "    try:\n",
    "        return requests.get('https://crawftv-nlp-api.herokuapp.com/sentiment',params=payload).json()[\"compound\"]\n",
    "    except:\n",
    "        pass\n",
    "    \n",
    "def get_date(ts):\n",
    "            return datetime.utcfromtimestamp(ts).strftime(\"%Y-%m-%d\")\n",
    "    \n",
    "@task\n",
    "def extract():\n",
    "    comments_list = []\n",
    "    max_item = requests.get(\"https://hacker-news.firebaseio.com/v0/maxitem.json?print=pretty\").json()\n",
    "    for i in range(max_item-10,max_item):\n",
    "        hn_scrape(i,comments_list)\n",
    "    return comments_list\n",
    "    \n",
    "    \n",
    "\n",
    "@task\n",
    "def transform(comments_list):\n",
    "    comments= pd.DataFrame(columns = [\"by\", \"id\",\"text\",\"time\"], data=comments_list)\n",
    "    comments[\"text\"] = comments[\"text\"].str.replace(\"&quot;\",\"\")\n",
    "    comments[\"text\"] = comments[\"text\"].str.replace(\"&#x27;\",\"'\")\n",
    "    comments[\"text\"] = comments[\"text\"].str.replace(\"&gt; \",\" \")\n",
    "    comments[\"text\"] = comments[\"text\"].str.replace(\"<p>\",\" \")\n",
    "    comments[\"text\"] = comments[\"text\"].str.replace(\"<a>\",\" \")\n",
    "    comments[\"text\"] = comments[\"text\"].str.replace(\"</a>\",\" \")\n",
    "    comments[\"text\"] = comments[\"text\"].str.replace(\"<i>\",\" \")\n",
    "    comments[\"text\"] = comments[\"text\"].str.replace(\"</i>\",\" \")\n",
    "    comments[\"text\"] = comments[\"text\"].str.replace(\"&#x2F;\",'')\n",
    "    comments[\"text\"] = comments[\"text\"].str.replace(\"https:\",' ')\n",
    "    comments[\"text\"] = comments[\"text\"].str.replace(\"\\\\n\",' ')\n",
    "    comments[\"time\"] = comments[\"time\"].apply(get_date)\n",
    "    comments = comments.dropna()\n",
    "    print(comments)\n",
    "    return comments\n",
    "\n",
    "\n",
    "@task\n",
    "def load(comments):\n",
    "    comments[\"sentiment\"] = comments[\"text\"].apply(sentiment)\n",
    "    comments.to_sql(name=\"comments\",con=db, if_exists=\"append\",chunksize=500)\n",
    "\n"
   ]
  },
  {
   "cell_type": "code",
   "execution_count": 14,
   "metadata": {},
   "outputs": [
    {
     "name": "stderr",
     "output_type": "stream",
     "text": [
      "[2019-09-11 20:19:23,435] INFO - prefect.FlowRunner | Beginning Flow run for 'ETL'\n",
      "[2019-09-11 20:19:23,435] INFO - prefect.FlowRunner | Starting flow run.\n",
      "[2019-09-11 20:19:23,438] INFO - prefect.TaskRunner | Task 'extract': Starting task run...\n",
      "[2019-09-11 20:19:24,546] INFO - prefect.TaskRunner | Task 'extract': finished task run for task with final state: 'Success'\n",
      "[2019-09-11 20:19:24,547] INFO - prefect.TaskRunner | Task 'transform': Starting task run...\n",
      "[2019-09-11 20:19:24,556] INFO - prefect.TaskRunner | Task 'transform': finished task run for task with final state: 'Success'\n",
      "[2019-09-11 20:19:24,557] INFO - prefect.TaskRunner | Task 'load': Starting task run...\n"
     ]
    },
    {
     "name": "stdout",
     "output_type": "stream",
     "text": [
      "               by        id  \\\n",
      "0       wilsonnb3  20944204   \n",
      "1     dragontamer  20944205   \n",
      "2         ekianjo  20944206   \n",
      "3        zeristor  20944207   \n",
      "4   mullingitover  20944208   \n",
      "5  blackflame7000  20944209   \n",
      "6           scotu  20944210   \n",
      "7      alistairSH  20944212   \n",
      "8     Supermancho  20944213   \n",
      "\n",
      "                                                text        time  \n",
      "0  Talkbass is still the best place on the web to...  2019-09-11  \n",
      "1               Strangely enough, it works with -O2.  2019-09-11  \n",
      "2  What is incredibly difficult about being a jou...  2019-09-11  \n",
      "3  Isn’t British mass market chocolate a laughabl...  2019-09-11  \n",
      "4  It has marked effects on young adults, and red...  2019-09-11  \n",
      "5  It's much easier to create additional emails t...  2019-09-11  \n",
      "6  as often happens, this focuses on technical as...  2019-09-11  \n",
      "7  But phone numbers are not unique.  They are re...  2019-09-11  \n",
      "8  If it's chemical propulsion, you're dead when ...  2019-09-11  \n"
     ]
    },
    {
     "name": "stderr",
     "output_type": "stream",
     "text": [
      "[2019-09-11 20:19:35,049] INFO - prefect.TaskRunner | Task 'load': finished task run for task with final state: 'Success'\n",
      "[2019-09-11 20:19:35,050] INFO - prefect.FlowRunner | Flow run SUCCESS: all reference tasks succeeded\n"
     ]
    }
   ],
   "source": [
    "from prefect import Flow\n",
    "\n",
    "\n",
    "max_item = requests.get(\"https://hacker-news.firebaseio.com/v0/maxitem.json?print=pretty\").json()\n",
    "\n",
    "\n",
    "with Flow('ETL') as flow:\n",
    "    e = extract()\n",
    "    t = transform(e)\n",
    "    l = load(t)\n",
    "\n",
    "\n",
    "flow.run()\n",
    "conn.close()\n",
    "curs.close()"
   ]
  },
  {
   "cell_type": "code",
   "execution_count": null,
   "metadata": {},
   "outputs": [],
   "source": []
  },
  {
   "cell_type": "markdown",
   "metadata": {},
   "source": [
    "## test"
   ]
  },
  {
   "cell_type": "code",
   "execution_count": null,
   "metadata": {},
   "outputs": [],
   "source": [
    "comments"
   ]
  },
  {
   "cell_type": "code",
   "execution_count": 4,
   "metadata": {},
   "outputs": [
    {
     "name": "stdout",
     "output_type": "stream",
     "text": [
      "[(9,)]\n"
     ]
    }
   ],
   "source": [
    "conn = db.connect()\n",
    "curs = conn.connection.cursor()\n",
    "curs.execute(\"\"\" SELECT COUNT(id) FROM \"comments\" \"\"\")\n",
    "table_max = curs.fetchall()\n",
    "print(table_max)\n",
    "conn.close()\n",
    "curs.close()"
   ]
  },
  {
   "cell_type": "code",
   "execution_count": null,
   "metadata": {},
   "outputs": [],
   "source": []
  },
  {
   "cell_type": "code",
   "execution_count": null,
   "metadata": {},
   "outputs": [],
   "source": []
  },
  {
   "cell_type": "code",
   "execution_count": null,
   "metadata": {},
   "outputs": [],
   "source": []
  }
 ],
 "metadata": {
  "@webio": {
   "lastCommId": null,
   "lastKernelId": null
  },
  "kernelspec": {
   "display_name": "Python 3",
   "language": "python",
   "name": "python3"
  },
  "language_info": {
   "codemirror_mode": {
    "name": "ipython",
    "version": 3
   },
   "file_extension": ".py",
   "mimetype": "text/x-python",
   "name": "python",
   "nbconvert_exporter": "python",
   "pygments_lexer": "ipython3",
   "version": "3.6.7"
  }
 },
 "nbformat": 4,
 "nbformat_minor": 2
}
