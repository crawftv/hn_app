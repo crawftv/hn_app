{
 "cells": [
  {
   "cell_type": "code",
   "execution_count": 1,
   "metadata": {},
   "outputs": [
    {
     "name": "stdout",
     "output_type": "stream",
     "text": [
      "Requirement already satisfied: python-decouple in c:\\users\\cwcol\\anaconda3\\lib\\site-packages (3.1)\n"
     ]
    }
   ],
   "source": [
    "!pip install python-decouple"
   ]
  },
  {
   "cell_type": "code",
   "execution_count": 2,
   "metadata": {},
   "outputs": [],
   "source": [
    "import pickle\n",
    "import pandas\n",
    "from decouple import config"
   ]
  },
  {
   "cell_type": "code",
   "execution_count": 7,
   "metadata": {},
   "outputs": [],
   "source": [
    "filename= \"hn_comments_df\"\n",
    "infile = open(filename,\"rb\")\n",
    "hn_comments_df = pickle.load(infile)\n",
    "infile.close()"
   ]
  },
  {
   "cell_type": "code",
   "execution_count": 8,
   "metadata": {},
   "outputs": [
    {
     "data": {
      "text/html": [
       "<div>\n",
       "<style scoped>\n",
       "    .dataframe tbody tr th:only-of-type {\n",
       "        vertical-align: middle;\n",
       "    }\n",
       "\n",
       "    .dataframe tbody tr th {\n",
       "        vertical-align: top;\n",
       "    }\n",
       "\n",
       "    .dataframe thead th {\n",
       "        text-align: right;\n",
       "    }\n",
       "</style>\n",
       "<table border=\"1\" class=\"dataframe\">\n",
       "  <thead>\n",
       "    <tr style=\"text-align: right;\">\n",
       "      <th></th>\n",
       "      <th>by</th>\n",
       "      <th>id</th>\n",
       "      <th>text</th>\n",
       "      <th>time</th>\n",
       "    </tr>\n",
       "  </thead>\n",
       "  <tbody>\n",
       "    <tr>\n",
       "      <th>0</th>\n",
       "      <td>fencepost</td>\n",
       "      <td>19599263</td>\n",
       "      <td>&amp;quot;Everything we could&amp;quot; [and more than...</td>\n",
       "      <td>1554665023</td>\n",
       "    </tr>\n",
       "    <tr>\n",
       "      <th>1</th>\n",
       "      <td>herohamp</td>\n",
       "      <td>19599262</td>\n",
       "      <td>This. Or just some way to keep track of a conv...</td>\n",
       "      <td>1554665022</td>\n",
       "    </tr>\n",
       "    <tr>\n",
       "      <th>2</th>\n",
       "      <td>dukoid</td>\n",
       "      <td>19599261</td>\n",
       "      <td>Dual citizenship is discouraged but I don&amp;#x27...</td>\n",
       "      <td>1554665020</td>\n",
       "    </tr>\n",
       "    <tr>\n",
       "      <th>3</th>\n",
       "      <td>ogdrhr</td>\n",
       "      <td>19599260</td>\n",
       "      <td>Yes, there&amp;#x27;s no way to win as the hiring ...</td>\n",
       "      <td>1554665010</td>\n",
       "    </tr>\n",
       "    <tr>\n",
       "      <th>4</th>\n",
       "      <td>changchuming</td>\n",
       "      <td>19599259</td>\n",
       "      <td>Unfortunately the uproar over political meddli...</td>\n",
       "      <td>1554665002</td>\n",
       "    </tr>\n",
       "  </tbody>\n",
       "</table>\n",
       "</div>"
      ],
      "text/plain": [
       "             by        id                                               text  \\\n",
       "0     fencepost  19599263  &quot;Everything we could&quot; [and more than...   \n",
       "1      herohamp  19599262  This. Or just some way to keep track of a conv...   \n",
       "2        dukoid  19599261  Dual citizenship is discouraged but I don&#x27...   \n",
       "3        ogdrhr  19599260  Yes, there&#x27;s no way to win as the hiring ...   \n",
       "4  changchuming  19599259  Unfortunately the uproar over political meddli...   \n",
       "\n",
       "         time  \n",
       "0  1554665023  \n",
       "1  1554665022  \n",
       "2  1554665020  \n",
       "3  1554665010  \n",
       "4  1554665002  "
      ]
     },
     "execution_count": 8,
     "metadata": {},
     "output_type": "execute_result"
    }
   ],
   "source": [
    "hn_comments_df.head()"
   ]
  },
  {
   "cell_type": "code",
   "execution_count": 9,
   "metadata": {},
   "outputs": [],
   "source": [
    "hn_comments_df[\"text\"] = hn_comments_df[\"text\"].str.replace(\"&quot;\",\"\")\n",
    "hn_comments_df[\"text\"] = hn_comments_df[\"text\"].str.replace(\"&#x27;\",\"'\")\n",
    "hn_comments_df[\"text\"] = hn_comments_df[\"text\"].str.replace(\"&gt; \",\" \")\n",
    "hn_comments_df[\"text\"] = hn_comments_df[\"text\"].str.replace(\"<p>\",\" \")\n",
    "hn_comments_df[\"text\"] = hn_comments_df[\"text\"].str.replace(\"<a>\",\" \")\n",
    "hn_comments_df[\"text\"] = hn_comments_df[\"text\"].str.replace(\"</a>\",\" \")\n",
    "hn_comments_df[\"text\"] = hn_comments_df[\"text\"].str.replace(\"<i>\",\" \")\n",
    "hn_comments_df[\"text\"] = hn_comments_df[\"text\"].str.replace(\"</i>\",\" \")\n",
    "hn_comments_df[\"text\"] = hn_comments_df[\"text\"].str.replace(\"&#x2F;\",'')\n",
    "hn_comments_df[\"text\"] = hn_comments_df[\"text\"].str.replace(\"https:\",' ')\n",
    "hn_comments_df[\"text\"] = hn_comments_df[\"text\"].str.replace(\"\\\\n\",' ')"
   ]
  },
  {
   "cell_type": "code",
   "execution_count": 10,
   "metadata": {},
   "outputs": [],
   "source": [
    "import requests\n",
    "def sentiment(text):\n",
    "    payload = {'text':text}\n",
    "    try:\n",
    "        return requests.get('https://crawftv-nlp-api.herokuapp.com/sentiment',params=payload).json()[\"compound\"]\n",
    "    except:\n",
    "        pass"
   ]
  },
  {
   "cell_type": "code",
   "execution_count": 11,
   "metadata": {},
   "outputs": [
    {
     "data": {
      "text/plain": [
       "\"Aren't there legal reasons why it's unfavorable to the company to really go into too much detail why they didn't hire someone?\""
      ]
     },
     "execution_count": 11,
     "metadata": {},
     "output_type": "execute_result"
    }
   ],
   "source": [
    "hn_comments_df[\"text\"].iloc[74]"
   ]
  },
  {
   "cell_type": "code",
   "execution_count": null,
   "metadata": {},
   "outputs": [],
   "source": [
    "hn_comments_df[\"sentiment\"] = hn_comments_df[\"text\"].apply(sentiment)"
   ]
  },
  {
   "cell_type": "code",
   "execution_count": 44,
   "metadata": {},
   "outputs": [],
   "source": [
    "hn_comments_df = hn_comments_df.dropna()"
   ]
  },
  {
   "cell_type": "code",
   "execution_count": null,
   "metadata": {},
   "outputs": [],
   "source": [
    "hn_comments_df.head()"
   ]
  },
  {
   "cell_type": "code",
   "execution_count": null,
   "metadata": {},
   "outputs": [],
   "source": [
    "hn_comments_df = hn_comments_df.rename(index=str,columns= {\"by\":\"user_id\"})"
   ]
  },
  {
   "cell_type": "code",
   "execution_count": 45,
   "metadata": {},
   "outputs": [
    {
     "data": {
      "text/html": [
       "<div>\n",
       "<style scoped>\n",
       "    .dataframe tbody tr th:only-of-type {\n",
       "        vertical-align: middle;\n",
       "    }\n",
       "\n",
       "    .dataframe tbody tr th {\n",
       "        vertical-align: top;\n",
       "    }\n",
       "\n",
       "    .dataframe thead th {\n",
       "        text-align: right;\n",
       "    }\n",
       "</style>\n",
       "<table border=\"1\" class=\"dataframe\">\n",
       "  <thead>\n",
       "    <tr style=\"text-align: right;\">\n",
       "      <th></th>\n",
       "      <th>by</th>\n",
       "      <th>id</th>\n",
       "      <th>text</th>\n",
       "      <th>time</th>\n",
       "      <th>sentiment</th>\n",
       "    </tr>\n",
       "  </thead>\n",
       "  <tbody>\n",
       "    <tr>\n",
       "      <th>0</th>\n",
       "      <td>fencepost</td>\n",
       "      <td>19599263</td>\n",
       "      <td>Everything we could [and more than we should] ...</td>\n",
       "      <td>1554665023</td>\n",
       "      <td>-0.1603</td>\n",
       "    </tr>\n",
       "    <tr>\n",
       "      <th>1</th>\n",
       "      <td>herohamp</td>\n",
       "      <td>19599262</td>\n",
       "      <td>This. Or just some way to keep track of a conv...</td>\n",
       "      <td>1554665022</td>\n",
       "      <td>0.0000</td>\n",
       "    </tr>\n",
       "    <tr>\n",
       "      <th>2</th>\n",
       "      <td>dukoid</td>\n",
       "      <td>19599261</td>\n",
       "      <td>Dual citizenship is discouraged but I don't th...</td>\n",
       "      <td>1554665020</td>\n",
       "      <td>0.5346</td>\n",
       "    </tr>\n",
       "    <tr>\n",
       "      <th>3</th>\n",
       "      <td>ogdrhr</td>\n",
       "      <td>19599260</td>\n",
       "      <td>Yes, there's no way to win as the hiring entit...</td>\n",
       "      <td>1554665010</td>\n",
       "      <td>0.8004</td>\n",
       "    </tr>\n",
       "    <tr>\n",
       "      <th>4</th>\n",
       "      <td>changchuming</td>\n",
       "      <td>19599259</td>\n",
       "      <td>Unfortunately the uproar over political meddli...</td>\n",
       "      <td>1554665002</td>\n",
       "      <td>-0.6997</td>\n",
       "    </tr>\n",
       "  </tbody>\n",
       "</table>\n",
       "</div>"
      ],
      "text/plain": [
       "             by        id                                               text  \\\n",
       "0     fencepost  19599263  Everything we could [and more than we should] ...   \n",
       "1      herohamp  19599262  This. Or just some way to keep track of a conv...   \n",
       "2        dukoid  19599261  Dual citizenship is discouraged but I don't th...   \n",
       "3        ogdrhr  19599260  Yes, there's no way to win as the hiring entit...   \n",
       "4  changchuming  19599259  Unfortunately the uproar over political meddli...   \n",
       "\n",
       "         time  sentiment  \n",
       "0  1554665023    -0.1603  \n",
       "1  1554665022     0.0000  \n",
       "2  1554665020     0.5346  \n",
       "3  1554665010     0.8004  \n",
       "4  1554665002    -0.6997  "
      ]
     },
     "execution_count": 45,
     "metadata": {},
     "output_type": "execute_result"
    }
   ],
   "source": [
    "hn_comments_df.head()"
   ]
  },
  {
   "cell_type": "code",
   "execution_count": 21,
   "metadata": {},
   "outputs": [],
   "source": [
    "import sqlalchemy\n",
    "from decouple import config \n",
    "host = config('DATABASE_URL')\n",
    "db = sqlalchemy.create_engine(host)"
   ]
  },
  {
   "cell_type": "code",
   "execution_count": 22,
   "metadata": {},
   "outputs": [],
   "source": [
    "conn = db.connect()\n",
    "curs = conn.connection.cursor()"
   ]
  },
  {
   "cell_type": "code",
   "execution_count": null,
   "metadata": {},
   "outputs": [],
   "source": [
    "hn_comments_df.to_sql(name=\"comments\",con=db, if_exists=\"append\")"
   ]
  },
  {
   "cell_type": "code",
   "execution_count": 26,
   "metadata": {},
   "outputs": [
    {
     "data": {
      "text/plain": [
       "['comments']"
      ]
     },
     "execution_count": 26,
     "metadata": {},
     "output_type": "execute_result"
    }
   ],
   "source": [
    "db.table_names()"
   ]
  },
  {
   "cell_type": "code",
   "execution_count": null,
   "metadata": {},
   "outputs": [],
   "source": []
  },
  {
   "cell_type": "code",
   "execution_count": 93,
   "metadata": {},
   "outputs": [],
   "source": [
    "conn = db.connect()\n",
    "curs = conn.connection.cursor()"
   ]
  },
  {
   "cell_type": "code",
   "execution_count": 94,
   "metadata": {},
   "outputs": [],
   "source": [
    "curs.execute(\"DELETE FROM comments WHERE sentiment is NULL\")"
   ]
  },
  {
   "cell_type": "code",
   "execution_count": 95,
   "metadata": {},
   "outputs": [],
   "source": [
    "curs.execute(\" SELECT * FROM comments WHERE sentiment is NULL\")"
   ]
  },
  {
   "cell_type": "code",
   "execution_count": 102,
   "metadata": {},
   "outputs": [
    {
     "ename": "InterfaceError",
     "evalue": "cursor already closed",
     "output_type": "error",
     "traceback": [
      "\u001b[0;31m---------------------------------------------------------------------------\u001b[0m",
      "\u001b[0;31mInterfaceError\u001b[0m                            Traceback (most recent call last)",
      "\u001b[0;32m<ipython-input-102-d3f932893384>\u001b[0m in \u001b[0;36m<module>\u001b[0;34m()\u001b[0m\n\u001b[0;32m----> 1\u001b[0;31m \u001b[0mcurs\u001b[0m\u001b[0;34m.\u001b[0m\u001b[0mfetchall\u001b[0m\u001b[0;34m(\u001b[0m\u001b[0;34m)\u001b[0m\u001b[0;34m\u001b[0m\u001b[0m\n\u001b[0m",
      "\u001b[0;31mInterfaceError\u001b[0m: cursor already closed"
     ]
    }
   ],
   "source": [
    "curs.fetchall()"
   ]
  },
  {
   "cell_type": "code",
   "execution_count": 105,
   "metadata": {},
   "outputs": [
    {
     "ename": "AttributeError",
     "evalue": "'Connection' object has no attribute 'commit'",
     "output_type": "error",
     "traceback": [
      "\u001b[0;31m---------------------------------------------------------------------------\u001b[0m",
      "\u001b[0;31mAttributeError\u001b[0m                            Traceback (most recent call last)",
      "\u001b[0;32m<ipython-input-105-e2f59a37941c>\u001b[0m in \u001b[0;36m<module>\u001b[0;34m()\u001b[0m\n\u001b[0;32m----> 1\u001b[0;31m \u001b[0mconn\u001b[0m\u001b[0;34m.\u001b[0m\u001b[0mcommit\u001b[0m\u001b[0;34m(\u001b[0m\u001b[0;34m)\u001b[0m\u001b[0;34m\u001b[0m\u001b[0m\n\u001b[0m",
      "\u001b[0;31mAttributeError\u001b[0m: 'Connection' object has no attribute 'commit'"
     ]
    }
   ],
   "source": [
    "conn.commit()"
   ]
  },
  {
   "cell_type": "code",
   "execution_count": 107,
   "metadata": {},
   "outputs": [],
   "source": [
    "curs.close()\n",
    "conn.close()"
   ]
  },
  {
   "cell_type": "code",
   "execution_count": null,
   "metadata": {},
   "outputs": [],
   "source": []
  }
 ],
 "metadata": {
  "kernelspec": {
   "display_name": "Python 3",
   "language": "python",
   "name": "python3"
  },
  "language_info": {
   "codemirror_mode": {
    "name": "ipython",
    "version": 3
   },
   "file_extension": ".py",
   "mimetype": "text/x-python",
   "name": "python",
   "nbconvert_exporter": "python",
   "pygments_lexer": "ipython3",
   "version": "3.7.3"
  }
 },
 "nbformat": 4,
 "nbformat_minor": 2
}
