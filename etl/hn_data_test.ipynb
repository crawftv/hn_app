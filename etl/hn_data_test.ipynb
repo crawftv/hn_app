{
 "cells": [
  {
   "cell_type": "code",
   "execution_count": 2,
   "metadata": {},
   "outputs": [],
   "source": [
    "from prefect import task\n",
    "import requests\n",
    "import pandas as pd\n",
    "import numpy as np\n",
    "import sqlalchemy\n",
    "from decouple import config \n",
    "import psycopg2\n"
   ]
  },
  {
   "cell_type": "code",
   "execution_count": 3,
   "metadata": {},
   "outputs": [],
   "source": [
    "host = config('AWS_DATABASE_URL')\n",
    "db = sqlalchemy.create_engine(host)"
   ]
  },
  {
   "cell_type": "code",
   "execution_count": null,
   "metadata": {},
   "outputs": [],
   "source": []
  },
  {
   "cell_type": "code",
   "execution_count": 11,
   "metadata": {},
   "outputs": [
    {
     "name": "stdout",
     "output_type": "stream",
     "text": [
      "[(579847,)]\n"
     ]
    }
   ],
   "source": [
    "conn = db.connect()\n",
    "curs = conn.connection.cursor()\n",
    "curs.execute(\" SELECT COUNT(id) FROM comments\")\n",
    "table_count= curs.fetchall()\n",
    "print(table_count)\n",
    "conn.close()\n",
    "curs.close()"
   ]
  },
  {
   "cell_type": "code",
   "execution_count": 5,
   "metadata": {},
   "outputs": [
    {
     "name": "stdout",
     "output_type": "stream",
     "text": [
      "[('20386743',)]\n"
     ]
    }
   ],
   "source": [
    "conn = db.connect()\n",
    "curs = conn.connection.cursor()\n",
    "curs.execute(\" SELECT MAX(id) FROM comments\")\n",
    "table_count= curs.fetchall()\n",
    "print(table_count)\n",
    "conn.close()\n",
    "curs.close()"
   ]
  },
  {
   "cell_type": "code",
   "execution_count": 7,
   "metadata": {},
   "outputs": [
    {
     "name": "stdout",
     "output_type": "stream",
     "text": [
      "[('8604', 'bsder', '20386743', \" Unions don't work as well when productivityvalue varies greatly between workers. I'm not sure I agree with this, but I'm not even sure I concede that programmers have that large a differential. I still have yet to see genuine scientific evidence that this differential exists in programming. Or, alternatively, I don't concede that there  isn't  a 10x difference in master vs apprentice carpenters.\", '1562619848', '-0.5975')]\n"
     ]
    }
   ],
   "source": [
    "conn = db.connect()\n",
    "curs = conn.connection.cursor()\n",
    "curs.execute(\" SELECT * FROM comments WHERE id = '20386743'\")\n",
    "table_count= curs.fetchall()\n",
    "print(table_count)\n",
    "conn.close()\n",
    "curs.close()"
   ]
  },
  {
   "cell_type": "code",
   "execution_count": 8,
   "metadata": {},
   "outputs": [],
   "source": [
    "from datetime import datetime"
   ]
  },
  {
   "cell_type": "code",
   "execution_count": 9,
   "metadata": {},
   "outputs": [
    {
     "data": {
      "text/plain": [
       "'2019-07-08'"
      ]
     },
     "execution_count": 9,
     "metadata": {},
     "output_type": "execute_result"
    }
   ],
   "source": [
    "datetime.utcfromtimestamp(1562619848).strftime(\"%Y-%m-%d\")"
   ]
  },
  {
   "cell_type": "code",
   "execution_count": null,
   "metadata": {},
   "outputs": [],
   "source": []
  }
 ],
 "metadata": {
  "kernelspec": {
   "display_name": "Python 3",
   "language": "python",
   "name": "python3"
  },
  "language_info": {
   "codemirror_mode": {
    "name": "ipython",
    "version": 3
   },
   "file_extension": ".py",
   "mimetype": "text/x-python",
   "name": "python",
   "nbconvert_exporter": "python",
   "pygments_lexer": "ipython3",
   "version": "3.6.7"
  }
 },
 "nbformat": 4,
 "nbformat_minor": 2
}
