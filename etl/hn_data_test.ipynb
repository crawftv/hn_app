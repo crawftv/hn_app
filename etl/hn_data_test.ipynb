{
 "cells": [
  {
   "cell_type": "code",
   "execution_count": 1,
   "metadata": {},
   "outputs": [],
   "source": [
    "from prefect import task\n",
    "import requests\n",
    "import pandas as pd\n",
    "import numpy as np\n",
    "import sqlalchemy\n",
    "from decouple import config \n",
    "import psycopg2\n"
   ]
  },
  {
   "cell_type": "code",
   "execution_count": 2,
   "metadata": {},
   "outputs": [],
   "source": [
    "host = config('AWS_DATABASE_URL')\n",
    "db = sqlalchemy.create_engine(host)"
   ]
  },
  {
   "cell_type": "code",
   "execution_count": null,
   "metadata": {},
   "outputs": [],
   "source": []
  },
  {
   "cell_type": "code",
   "execution_count": 3,
   "metadata": {},
   "outputs": [
    {
     "name": "stdout",
     "output_type": "stream",
     "text": [
      "[(8555,)]\n"
     ]
    }
   ],
   "source": [
    "conn = db.connect()\n",
    "curs = conn.connection.cursor()\n",
    "curs.execute(\" SELECT COUNT(id) FROM comments\")\n",
    "table_count= curs.fetchall()\n",
    "print(table_count)\n",
    "conn.close()\n",
    "curs.close()"
   ]
  },
  {
   "cell_type": "code",
   "execution_count": 4,
   "metadata": {},
   "outputs": [
    {
     "name": "stdout",
     "output_type": "stream",
     "text": [
      "[(20944213,)]\n"
     ]
    }
   ],
   "source": [
    "conn = db.connect()\n",
    "curs = conn.connection.cursor()\n",
    "curs.execute(\" SELECT MAX(id) FROM comments\")\n",
    "table_count= curs.fetchall()\n",
    "print(table_count)\n",
    "conn.close()\n",
    "curs.close()"
   ]
  },
  {
   "cell_type": "code",
   "execution_count": 6,
   "metadata": {},
   "outputs": [
    {
     "name": "stdout",
     "output_type": "stream",
     "text": [
      "[(8, 'Supermancho', 20944213, \"If it's chemical propulsion, you're dead when you get there.  If there's no refuelling (and you need refuelling) with some other travel mechanism, you can't get back. So we have an or assumption, not and, with an additional assumption about refuelling.\", '2019-09-11', -0.7579)]\n"
     ]
    }
   ],
   "source": [
    "conn = db.connect()\n",
    "curs = conn.connection.cursor()\n",
    "curs.execute(\" SELECT * FROM comments WHERE id = '20944213'\")\n",
    "table_count= curs.fetchall()\n",
    "print(table_count)\n",
    "conn.close()\n",
    "curs.close()"
   ]
  },
  {
   "cell_type": "code",
   "execution_count": null,
   "metadata": {},
   "outputs": [],
   "source": []
  }
 ],
 "metadata": {
  "kernelspec": {
   "display_name": "Python 3",
   "language": "python",
   "name": "python3"
  },
  "language_info": {
   "codemirror_mode": {
    "name": "ipython",
    "version": 3
   },
   "file_extension": ".py",
   "mimetype": "text/x-python",
   "name": "python",
   "nbconvert_exporter": "python",
   "pygments_lexer": "ipython3",
   "version": "3.6.7"
  }
 },
 "nbformat": 4,
 "nbformat_minor": 2
}
